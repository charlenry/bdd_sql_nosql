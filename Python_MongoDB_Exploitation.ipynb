{
 "cells": [
  {
   "cell_type": "code",
   "execution_count": 1,
   "metadata": {},
   "outputs": [],
   "source": [
    "# Importation du module pymongo\n",
    "import pymongo"
   ]
  },
  {
   "cell_type": "code",
   "execution_count": 2,
   "metadata": {},
   "outputs": [
    {
     "name": "stdout",
     "output_type": "stream",
     "text": [
      "['admin', 'argentBankDB', 'config', 'local', 'python_db']\n"
     ]
    }
   ],
   "source": [
    "# Connexion au serveur MongoDB et affichage de la liste des bases de données\n",
    "myclient = pymongo.MongoClient(\"mongodb://localhost:27017/\")\n",
    "\n",
    "# Renvoie la liste des bases de données de votre système :\n",
    "print(myclient.list_database_names())"
   ]
  },
  {
   "cell_type": "code",
   "execution_count": 3,
   "metadata": {},
   "outputs": [],
   "source": [
    "# Sélection de la base de données\n",
    "mydb = myclient[\"python_db\"]"
   ]
  },
  {
   "cell_type": "code",
   "execution_count": 4,
   "metadata": {},
   "outputs": [
    {
     "name": "stdout",
     "output_type": "stream",
     "text": [
      "['customers']\n"
     ]
    }
   ],
   "source": [
    "# Affichage de la liste des collections de la base de données\n",
    "print(mydb.list_collection_names())"
   ]
  },
  {
   "cell_type": "code",
   "execution_count": 5,
   "metadata": {},
   "outputs": [],
   "source": [
    "# Sélection de la collection (table)\n",
    "mycol = mydb[\"customers\"]"
   ]
  },
  {
   "cell_type": "markdown",
   "metadata": {},
   "source": [
    "## Find (Rechercher)"
   ]
  },
  {
   "cell_type": "markdown",
   "metadata": {},
   "source": [
    "Dans MongoDB, nous utilisons les méthodes find() et find_one() pour rechercher des données dans une collection.\n",
    "\n",
    "Tout comme l'instruction SELECT est utilisée pour rechercher des données dans une table d'une base de données MySQL."
   ]
  },
  {
   "cell_type": "markdown",
   "metadata": {},
   "source": [
    "### Find One"
   ]
  },
  {
   "cell_type": "code",
   "execution_count": 6,
   "metadata": {},
   "outputs": [
    {
     "name": "stdout",
     "output_type": "stream",
     "text": [
      "{'_id': ObjectId('67532695cc5bde8642d92089'), 'name': 'John', 'age': 24, 'member': True, 'address': 'Highway 37'}\n"
     ]
    }
   ],
   "source": [
    "# La méthode find_one() renvoie la première occurrence de la sélection.\n",
    "x = mycol.find_one()\n",
    "print(x)"
   ]
  },
  {
   "cell_type": "markdown",
   "metadata": {},
   "source": [
    "### Find All"
   ]
  },
  {
   "cell_type": "code",
   "execution_count": 7,
   "metadata": {},
   "outputs": [
    {
     "name": "stdout",
     "output_type": "stream",
     "text": [
      "{'_id': ObjectId('67532695cc5bde8642d92089'), 'name': 'John', 'age': 24, 'member': True, 'address': 'Highway 37'}\n",
      "{'_id': ObjectId('67532695cc5bde8642d9208a'), 'name': 'Peter', 'age': 32, 'member': False, 'address': 'Lowstreet 27'}\n",
      "{'_id': 1, 'name': 'Amy', 'age': 18, 'member': True, 'address': 'Apple st 652'}\n",
      "{'_id': 2, 'name': 'Hannah', 'age': 30, 'member': False, 'address': 'Mountain 21'}\n",
      "{'_id': 3, 'name': 'Michael', 'age': 25, 'member': True, 'address': 'Valley 345'}\n",
      "{'_id': 4, 'name': 'Sandy', 'age': 50, 'member': False, 'address': 'Ocean blvd 2'}\n",
      "{'_id': 5, 'name': 'Betty', 'age': 34, 'member': True, 'address': 'Green Grass 1'}\n",
      "{'_id': 6, 'name': 'Richard', 'age': 45, 'member': False, 'address': 'Sky st 331'}\n",
      "{'_id': 7, 'name': 'Susan', 'age': 20, 'member': True, 'address': 'One way 98'}\n",
      "{'_id': 8, 'name': 'Vicky', 'age': 29, 'member': False, 'address': 'Yellow Garden 2'}\n",
      "{'_id': 9, 'name': 'Ben', 'age': 25, 'member': True, 'address': 'Park Lane 38'}\n",
      "{'_id': 10, 'name': 'William', 'age': 43, 'member': False, 'address': 'Central st 954'}\n",
      "{'_id': 11, 'name': 'Chuck', 'age': 35, 'member': True, 'address': 'Main Road 989'}\n",
      "{'_id': 12, 'name': 'Viola', 'age': 55, 'member': False, 'address': 'Sideway 1633'}\n"
     ]
    }
   ],
   "source": [
    "# Affichage de la liste entière des documents (enregistrements) de la collection (table)\n",
    "for x in mycol.find():\n",
    "  print(x)"
   ]
  },
  {
   "cell_type": "markdown",
   "metadata": {},
   "source": [
    "### Return Only Some Fields"
   ]
  },
  {
   "cell_type": "markdown",
   "metadata": {},
   "source": [
    "- Le premier paramètre de la méthode find() est un objet décrivant les critères de recherche pour la sélection des documents (lignes ou enregistrements).\n",
    "\n",
    "- Le deuxième paramètre de la méthode find() est un objet décrivant les champs (colonnes) à inclure dans le résultat. Ce paramètre est facultatif et s'il est omis, tous les champs seront inclus dans le résultat."
   ]
  },
  {
   "cell_type": "code",
   "execution_count": 8,
   "metadata": {},
   "outputs": [
    {
     "name": "stdout",
     "output_type": "stream",
     "text": [
      "{'name': 'John', 'address': 'Highway 37'}\n",
      "{'name': 'Peter', 'address': 'Lowstreet 27'}\n",
      "{'name': 'Amy', 'address': 'Apple st 652'}\n",
      "{'name': 'Hannah', 'address': 'Mountain 21'}\n",
      "{'name': 'Michael', 'address': 'Valley 345'}\n",
      "{'name': 'Sandy', 'address': 'Ocean blvd 2'}\n",
      "{'name': 'Betty', 'address': 'Green Grass 1'}\n",
      "{'name': 'Richard', 'address': 'Sky st 331'}\n",
      "{'name': 'Susan', 'address': 'One way 98'}\n",
      "{'name': 'Vicky', 'address': 'Yellow Garden 2'}\n",
      "{'name': 'Ben', 'address': 'Park Lane 38'}\n",
      "{'name': 'William', 'address': 'Central st 954'}\n",
      "{'name': 'Chuck', 'address': 'Main Road 989'}\n",
      "{'name': 'Viola', 'address': 'Sideway 1633'}\n"
     ]
    }
   ],
   "source": [
    "for x in mycol.find({},{ \"_id\": 0, \"name\": 1, \"address\": 1 }):\n",
    "  print(x)"
   ]
  },
  {
   "cell_type": "markdown",
   "metadata": {},
   "source": [
    "Vous n'êtes pas autorisé à spécifier à la fois les valeurs 0 et 1 dans les champs du second paramètre (sauf si l'un des champs est le champ _id). Autrement dit, on met soit que des 0 soit que des 1 pour les autres champs autre que _id qui peut prendre 0 ou 1 indifféremment. On peut aussi omettre certains champs."
   ]
  },
  {
   "cell_type": "code",
   "execution_count": 9,
   "metadata": {},
   "outputs": [
    {
     "name": "stdout",
     "output_type": "stream",
     "text": [
      "{'name': 'John'}\n",
      "{'name': 'Peter'}\n",
      "{'name': 'Amy'}\n",
      "{'name': 'Hannah'}\n",
      "{'name': 'Michael'}\n",
      "{'name': 'Sandy'}\n",
      "{'name': 'Betty'}\n",
      "{'name': 'Richard'}\n",
      "{'name': 'Susan'}\n",
      "{'name': 'Vicky'}\n",
      "{'name': 'Ben'}\n",
      "{'name': 'William'}\n",
      "{'name': 'Chuck'}\n",
      "{'name': 'Viola'}\n"
     ]
    }
   ],
   "source": [
    "# Exemple 1\n",
    "for x in mycol.find({},{ \"_id\": 0, \"name\": 1}):\n",
    "  print(x)"
   ]
  },
  {
   "cell_type": "markdown",
   "metadata": {},
   "source": [
    "Si vous définissez un champ autre que _id sur 0 et si vous ne précisez pas les autres champs, alors tous les autres champs seront inclus automatiquement."
   ]
  },
  {
   "cell_type": "code",
   "execution_count": 10,
   "metadata": {},
   "outputs": [
    {
     "name": "stdout",
     "output_type": "stream",
     "text": [
      "{'age': 24, 'member': True, 'address': 'Highway 37'}\n",
      "{'age': 32, 'member': False, 'address': 'Lowstreet 27'}\n",
      "{'age': 18, 'member': True, 'address': 'Apple st 652'}\n",
      "{'age': 30, 'member': False, 'address': 'Mountain 21'}\n",
      "{'age': 25, 'member': True, 'address': 'Valley 345'}\n",
      "{'age': 50, 'member': False, 'address': 'Ocean blvd 2'}\n",
      "{'age': 34, 'member': True, 'address': 'Green Grass 1'}\n",
      "{'age': 45, 'member': False, 'address': 'Sky st 331'}\n",
      "{'age': 20, 'member': True, 'address': 'One way 98'}\n",
      "{'age': 29, 'member': False, 'address': 'Yellow Garden 2'}\n",
      "{'age': 25, 'member': True, 'address': 'Park Lane 38'}\n",
      "{'age': 43, 'member': False, 'address': 'Central st 954'}\n",
      "{'age': 35, 'member': True, 'address': 'Main Road 989'}\n",
      "{'age': 55, 'member': False, 'address': 'Sideway 1633'}\n"
     ]
    }
   ],
   "source": [
    "# Exemple 2\n",
    "for x in mycol.find({},{ \"_id\": 0, \"name\": 0 }): # 0 pour exclure le champ\n",
    "  print(x)"
   ]
  },
  {
   "cell_type": "markdown",
   "metadata": {},
   "source": [
    "### Query (Sélection de documents)"
   ]
  },
  {
   "cell_type": "markdown",
   "metadata": {},
   "source": [
    "- Le premier paramètre de la méthode find() est un objet décrivant les critères de recherche (filtre) pour la sélection des documents (lignes ou enregistrements).\n",
    "\n",
    "- Le deuxième paramètre de la méthode find() est un objet décrivant les champs (colonnes) à inclure dans le résultat. Ce paramètre est facultatif et s'il est omis, tous les champs seront inclus dans le résultat."
   ]
  },
  {
   "cell_type": "code",
   "execution_count": 11,
   "metadata": {},
   "outputs": [
    {
     "name": "stdout",
     "output_type": "stream",
     "text": [
      "{'_id': 9, 'name': 'Ben', 'age': 25, 'member': True, 'address': 'Park Lane 38'}\n"
     ]
    }
   ],
   "source": [
    "# Find document(s) with the address \"Park Lane 38\":\n",
    "myquery = { \"address\": \"Park Lane 38\" }\n",
    "\n",
    "mydocs = mycol.find(myquery)\n",
    "\n",
    "for x in mydocs:\n",
    "  print(x)"
   ]
  },
  {
   "cell_type": "markdown",
   "metadata": {},
   "source": [
    "Pour effectuer des requêtes avancées, vous pouvez utiliser des modificateurs comme valeurs dans l'objet de requête.\n",
    "\n",
    "Par exemple, pour trouver les documents dont le champ « adresse » commence par la lettre « S » ou plus (par ordre alphabétique), utilisez le modificateur supérieur à : `{\"$gt\": \"S\"}`"
   ]
  },
  {
   "cell_type": "code",
   "execution_count": 12,
   "metadata": {},
   "outputs": [
    {
     "name": "stdout",
     "output_type": "stream",
     "text": [
      "{'_id': 3, 'name': 'Michael', 'age': 25, 'member': True, 'address': 'Valley 345'}\n",
      "{'_id': 6, 'name': 'Richard', 'age': 45, 'member': False, 'address': 'Sky st 331'}\n",
      "{'_id': 8, 'name': 'Vicky', 'age': 29, 'member': False, 'address': 'Yellow Garden 2'}\n",
      "{'_id': 12, 'name': 'Viola', 'age': 55, 'member': False, 'address': 'Sideway 1633'}\n"
     ]
    }
   ],
   "source": [
    "myquery = { \"address\": { \"$gt\": \"S\" } }\n",
    "\n",
    "mydocs = mycol.find(myquery)\n",
    "\n",
    "for x in mydocs:\n",
    "  print(x)"
   ]
  },
  {
   "cell_type": "markdown",
   "metadata": {},
   "source": [
    "Filtrer avec des expressions régulières\n",
    "\n",
    "Vous pouvez également utiliser des expressions régulières comme modificateur.\n",
    "\n",
    "Les expressions régulières ne peuvent être utilisées que pour interroger des chaînes."
   ]
  },
  {
   "cell_type": "code",
   "execution_count": 13,
   "metadata": {},
   "outputs": [
    {
     "name": "stdout",
     "output_type": "stream",
     "text": [
      "{'_id': 6, 'name': 'Richard', 'age': 45, 'member': False, 'address': 'Sky st 331'}\n",
      "{'_id': 12, 'name': 'Viola', 'age': 55, 'member': False, 'address': 'Sideway 1633'}\n"
     ]
    }
   ],
   "source": [
    "# Find documents where the address starts with the letter \"S\":\n",
    "myquery = { \"address\": { \"$regex\": \"^S\" } }\n",
    "\n",
    "mydocs = mycol.find(myquery)\n",
    "\n",
    "for x in mydocs:\n",
    "  print(x)"
   ]
  },
  {
   "cell_type": "code",
   "execution_count": 14,
   "metadata": {},
   "outputs": [
    {
     "name": "stdout",
     "output_type": "stream",
     "text": [
      "{'_id': ObjectId('67532695cc5bde8642d92089'), 'name': 'John', 'age': 24, 'member': True, 'address': 'Highway 37'}\n",
      "{'_id': ObjectId('67532695cc5bde8642d9208a'), 'name': 'Peter', 'age': 32, 'member': False, 'address': 'Lowstreet 27'}\n",
      "{'_id': 1, 'name': 'Amy', 'age': 18, 'member': True, 'address': 'Apple st 652'}\n",
      "{'_id': 2, 'name': 'Hannah', 'age': 30, 'member': False, 'address': 'Mountain 21'}\n",
      "{'_id': 3, 'name': 'Michael', 'age': 25, 'member': True, 'address': 'Valley 345'}\n",
      "{'_id': 7, 'name': 'Susan', 'age': 20, 'member': True, 'address': 'One way 98'}\n",
      "{'_id': 8, 'name': 'Vicky', 'age': 29, 'member': False, 'address': 'Yellow Garden 2'}\n",
      "{'_id': 9, 'name': 'Ben', 'age': 25, 'member': True, 'address': 'Park Lane 38'}\n"
     ]
    }
   ],
   "source": [
    "# Find documents where age is less than 34:\n",
    "myquery = { \"age\": { \"$lt\": 34 } }\n",
    "\n",
    "mydocs = mycol.find(myquery)\n",
    "\n",
    "for x in mydocs:\n",
    "  print(x)"
   ]
  },
  {
   "cell_type": "code",
   "execution_count": 15,
   "metadata": {},
   "outputs": [
    {
     "name": "stdout",
     "output_type": "stream",
     "text": [
      "{'_id': 5, 'name': 'Betty', 'age': 34, 'member': True, 'address': 'Green Grass 1'}\n"
     ]
    }
   ],
   "source": [
    "# Find documents where age is equal to 34:\n",
    "myquery = { \"age\": 34 }\n",
    "\n",
    "mydocs = mycol.find(myquery)\n",
    "\n",
    "for x in mydocs:\n",
    "  print(x)"
   ]
  },
  {
   "cell_type": "code",
   "execution_count": 16,
   "metadata": {},
   "outputs": [
    {
     "name": "stdout",
     "output_type": "stream",
     "text": [
      "{'_id': ObjectId('67532695cc5bde8642d92089'), 'name': 'John', 'age': 24, 'member': True, 'address': 'Highway 37'}\n",
      "{'_id': 1, 'name': 'Amy', 'age': 18, 'member': True, 'address': 'Apple st 652'}\n",
      "{'_id': 3, 'name': 'Michael', 'age': 25, 'member': True, 'address': 'Valley 345'}\n",
      "{'_id': 5, 'name': 'Betty', 'age': 34, 'member': True, 'address': 'Green Grass 1'}\n",
      "{'_id': 7, 'name': 'Susan', 'age': 20, 'member': True, 'address': 'One way 98'}\n",
      "{'_id': 9, 'name': 'Ben', 'age': 25, 'member': True, 'address': 'Park Lane 38'}\n",
      "{'_id': 11, 'name': 'Chuck', 'age': 35, 'member': True, 'address': 'Main Road 989'}\n"
     ]
    }
   ],
   "source": [
    "# Find documents where members is True:\n",
    "myquery = { \"member\": True }\n",
    "\n",
    "mydocs = mycol.find(myquery)\n",
    "\n",
    "for x in mydocs:\n",
    "  print(x)"
   ]
  },
  {
   "cell_type": "code",
   "execution_count": 17,
   "metadata": {},
   "outputs": [
    {
     "name": "stdout",
     "output_type": "stream",
     "text": [
      "{'_id': 3, 'name': 'Michael', 'age': 25, 'member': True, 'address': 'Valley 345'}\n",
      "{'_id': 9, 'name': 'Ben', 'age': 25, 'member': True, 'address': 'Park Lane 38'}\n"
     ]
    }
   ],
   "source": [
    "# Find documents where members is True and age is equal to 25:\n",
    "myquery = { \"member\": True, \"age\": 25 }\n",
    "\n",
    "mydocs = mycol.find(myquery)\n",
    "\n",
    "for x in mydocs:\n",
    "  print(x)"
   ]
  },
  {
   "cell_type": "code",
   "execution_count": 18,
   "metadata": {},
   "outputs": [
    {
     "name": "stdout",
     "output_type": "stream",
     "text": [
      "{'_id': ObjectId('67532695cc5bde8642d9208a'), 'name': 'Peter', 'age': 32, 'member': False, 'address': 'Lowstreet 27'}\n",
      "{'_id': 2, 'name': 'Hannah', 'age': 30, 'member': False, 'address': 'Mountain 21'}\n",
      "{'_id': 5, 'name': 'Betty', 'age': 34, 'member': True, 'address': 'Green Grass 1'}\n",
      "{'_id': 8, 'name': 'Vicky', 'age': 29, 'member': False, 'address': 'Yellow Garden 2'}\n",
      "{'_id': 10, 'name': 'William', 'age': 43, 'member': False, 'address': 'Central st 954'}\n",
      "{'_id': 11, 'name': 'Chuck', 'age': 35, 'member': True, 'address': 'Main Road 989'}\n"
     ]
    }
   ],
   "source": [
    "# Find documents where age is between 25 and 45:\n",
    "myquery = { \"age\": { \"$gt\": 25, \"$lt\": 45 } }\n",
    "\n",
    "mydocs = mycol.find(myquery)\n",
    "\n",
    "for x in mydocs:\n",
    "  print(x)"
   ]
  },
  {
   "cell_type": "code",
   "execution_count": 19,
   "metadata": {},
   "outputs": [
    {
     "name": "stdout",
     "output_type": "stream",
     "text": [
      "{'_id': ObjectId('67532695cc5bde8642d92089'), 'name': 'John', 'age': 24, 'member': True, 'address': 'Highway 37'}\n",
      "{'_id': 1, 'name': 'Amy', 'age': 18, 'member': True, 'address': 'Apple st 652'}\n",
      "{'_id': 3, 'name': 'Michael', 'age': 25, 'member': True, 'address': 'Valley 345'}\n",
      "{'_id': 4, 'name': 'Sandy', 'age': 50, 'member': False, 'address': 'Ocean blvd 2'}\n",
      "{'_id': 6, 'name': 'Richard', 'age': 45, 'member': False, 'address': 'Sky st 331'}\n",
      "{'_id': 7, 'name': 'Susan', 'age': 20, 'member': True, 'address': 'One way 98'}\n",
      "{'_id': 9, 'name': 'Ben', 'age': 25, 'member': True, 'address': 'Park Lane 38'}\n",
      "{'_id': 12, 'name': 'Viola', 'age': 55, 'member': False, 'address': 'Sideway 1633'}\n"
     ]
    }
   ],
   "source": [
    "# Find documents where age is not between 25 and 45:\n",
    "myquery = { \"age\": { \"$not\": { \"$gt\": 25, \"$lt\": 45 } } }\n",
    "\n",
    "mydocs = mycol.find(myquery)\n",
    "\n",
    "for x in mydocs:\n",
    "  print(x)"
   ]
  },
  {
   "cell_type": "markdown",
   "metadata": {},
   "source": [
    "## Sort Documents (Trier les documents)\n",
    "Utilisez la méthode sort() pour trier le résultat par ordre croissant ou décroissant.\n",
    "\n",
    "La méthode sort() prend un paramètre pour « fieldname » et un paramètre pour « direction » (croissant est la direction par défaut).)\n",
    "\n",
    "- sort(\"name\", 1) # ascending (croissant, par défaut)\n",
    "- sort(\"name\", -1) # descending (décroissant)"
   ]
  },
  {
   "cell_type": "code",
   "execution_count": 20,
   "metadata": {},
   "outputs": [
    {
     "name": "stdout",
     "output_type": "stream",
     "text": [
      "{'_id': 1, 'name': 'Amy', 'age': 18, 'member': True, 'address': 'Apple st 652'}\n",
      "{'_id': 9, 'name': 'Ben', 'age': 25, 'member': True, 'address': 'Park Lane 38'}\n",
      "{'_id': 5, 'name': 'Betty', 'age': 34, 'member': True, 'address': 'Green Grass 1'}\n",
      "{'_id': 11, 'name': 'Chuck', 'age': 35, 'member': True, 'address': 'Main Road 989'}\n",
      "{'_id': 2, 'name': 'Hannah', 'age': 30, 'member': False, 'address': 'Mountain 21'}\n",
      "{'_id': ObjectId('67532695cc5bde8642d92089'), 'name': 'John', 'age': 24, 'member': True, 'address': 'Highway 37'}\n",
      "{'_id': 3, 'name': 'Michael', 'age': 25, 'member': True, 'address': 'Valley 345'}\n",
      "{'_id': ObjectId('67532695cc5bde8642d9208a'), 'name': 'Peter', 'age': 32, 'member': False, 'address': 'Lowstreet 27'}\n",
      "{'_id': 6, 'name': 'Richard', 'age': 45, 'member': False, 'address': 'Sky st 331'}\n",
      "{'_id': 4, 'name': 'Sandy', 'age': 50, 'member': False, 'address': 'Ocean blvd 2'}\n",
      "{'_id': 7, 'name': 'Susan', 'age': 20, 'member': True, 'address': 'One way 98'}\n",
      "{'_id': 8, 'name': 'Vicky', 'age': 29, 'member': False, 'address': 'Yellow Garden 2'}\n",
      "{'_id': 12, 'name': 'Viola', 'age': 55, 'member': False, 'address': 'Sideway 1633'}\n",
      "{'_id': 10, 'name': 'William', 'age': 43, 'member': False, 'address': 'Central st 954'}\n"
     ]
    }
   ],
   "source": [
    "# Sort the result alphabetically by name:\n",
    "mydoc = mycol.find().sort(\"name\")\n",
    "\n",
    "for x in mydoc:\n",
    "  print(x)"
   ]
  },
  {
   "cell_type": "code",
   "execution_count": 21,
   "metadata": {},
   "outputs": [
    {
     "name": "stdout",
     "output_type": "stream",
     "text": [
      "{'_id': 10, 'name': 'William', 'age': 43, 'member': False, 'address': 'Central st 954'}\n",
      "{'_id': 12, 'name': 'Viola', 'age': 55, 'member': False, 'address': 'Sideway 1633'}\n",
      "{'_id': 8, 'name': 'Vicky', 'age': 29, 'member': False, 'address': 'Yellow Garden 2'}\n",
      "{'_id': 7, 'name': 'Susan', 'age': 20, 'member': True, 'address': 'One way 98'}\n",
      "{'_id': 4, 'name': 'Sandy', 'age': 50, 'member': False, 'address': 'Ocean blvd 2'}\n",
      "{'_id': 6, 'name': 'Richard', 'age': 45, 'member': False, 'address': 'Sky st 331'}\n",
      "{'_id': ObjectId('67532695cc5bde8642d9208a'), 'name': 'Peter', 'age': 32, 'member': False, 'address': 'Lowstreet 27'}\n",
      "{'_id': 3, 'name': 'Michael', 'age': 25, 'member': True, 'address': 'Valley 345'}\n",
      "{'_id': ObjectId('67532695cc5bde8642d92089'), 'name': 'John', 'age': 24, 'member': True, 'address': 'Highway 37'}\n",
      "{'_id': 2, 'name': 'Hannah', 'age': 30, 'member': False, 'address': 'Mountain 21'}\n",
      "{'_id': 11, 'name': 'Chuck', 'age': 35, 'member': True, 'address': 'Main Road 989'}\n",
      "{'_id': 5, 'name': 'Betty', 'age': 34, 'member': True, 'address': 'Green Grass 1'}\n",
      "{'_id': 9, 'name': 'Ben', 'age': 25, 'member': True, 'address': 'Park Lane 38'}\n",
      "{'_id': 1, 'name': 'Amy', 'age': 18, 'member': True, 'address': 'Apple st 652'}\n"
     ]
    }
   ],
   "source": [
    "# Sort the result reverse alphabetically by name:\n",
    "mydoc = mycol.find().sort(\"name\", -1)\n",
    "\n",
    "for x in mydoc:\n",
    "  print(x)"
   ]
  },
  {
   "cell_type": "markdown",
   "metadata": {},
   "source": [
    "## Limit the Result (Limitez le résultat)\n",
    "\n",
    "Pour limiter le résultat dans MongoDB, nous utilisons la méthode limit().\n",
    "\n",
    "La méthode limit() prend un paramètre, un nombre définissant le nombre de documents à renvoyer."
   ]
  },
  {
   "cell_type": "code",
   "execution_count": 22,
   "metadata": {},
   "outputs": [
    {
     "name": "stdout",
     "output_type": "stream",
     "text": [
      "{'_id': ObjectId('67532695cc5bde8642d92089'), 'name': 'John', 'age': 24, 'member': True, 'address': 'Highway 37'}\n",
      "{'_id': ObjectId('67532695cc5bde8642d9208a'), 'name': 'Peter', 'age': 32, 'member': False, 'address': 'Lowstreet 27'}\n",
      "{'_id': 1, 'name': 'Amy', 'age': 18, 'member': True, 'address': 'Apple st 652'}\n",
      "{'_id': 2, 'name': 'Hannah', 'age': 30, 'member': False, 'address': 'Mountain 21'}\n",
      "{'_id': 3, 'name': 'Michael', 'age': 25, 'member': True, 'address': 'Valley 345'}\n"
     ]
    }
   ],
   "source": [
    "# Limit the result to only return 5 documents:\n",
    "myresult = mycol.find().limit(5)\n",
    "\n",
    "# Print the result:\n",
    "for x in myresult:\n",
    "  print(x)"
   ]
  },
  {
   "cell_type": "markdown",
   "metadata": {},
   "source": [
    "Utiliser la méthode skip() pour ignorer les premiers documents (offset) et commencer à renvoyer les documents à partir d'un certain point."
   ]
  },
  {
   "cell_type": "code",
   "execution_count": 23,
   "metadata": {},
   "outputs": [
    {
     "name": "stdout",
     "output_type": "stream",
     "text": [
      "{'_id': 1, 'name': 'Amy', 'age': 18, 'member': True, 'address': 'Apple st 652'}\n",
      "{'_id': 2, 'name': 'Hannah', 'age': 30, 'member': False, 'address': 'Mountain 21'}\n",
      "{'_id': 3, 'name': 'Michael', 'age': 25, 'member': True, 'address': 'Valley 345'}\n",
      "{'_id': 4, 'name': 'Sandy', 'age': 50, 'member': False, 'address': 'Ocean blvd 2'}\n",
      "{'_id': 5, 'name': 'Betty', 'age': 34, 'member': True, 'address': 'Green Grass 1'}\n"
     ]
    }
   ],
   "source": [
    "# Limit the result between the third and the seventh document:\n",
    "myresult = mycol.find().skip(2).limit(5)\n",
    "\n",
    "# Print the result:\n",
    "for x in myresult:\n",
    "  print(x)"
   ]
  },
  {
   "cell_type": "markdown",
   "metadata": {},
   "source": [
    "## Update Collection (Mettre à jour une collection)"
   ]
  },
  {
   "cell_type": "markdown",
   "metadata": {},
   "source": [
    "### Update One Document (Mettre à jour un document)\n",
    "\n",
    "Vous pouvez mettre à jour un enregistrement, ou un document comme on l'appelle dans MongoDB, en utilisant la méthode update_one().\n",
    "\n",
    "Le premier paramètre de la méthode update_one() est un objet de requête définissant le document à mettre à jour.\n",
    "\n",
    "Remarque : si la requête trouve plusieurs enregistrements, seule la première occurrence est mise à jour.\n",
    "\n",
    "Le deuxième paramètre est un objet définissant les nouvelles valeurs du document."
   ]
  },
  {
   "cell_type": "code",
   "execution_count": 24,
   "metadata": {},
   "outputs": [
    {
     "name": "stdout",
     "output_type": "stream",
     "text": [
      "{'_id': 3, 'name': 'Michael', 'age': 25, 'member': True, 'address': 'Canyon 123'}\n"
     ]
    }
   ],
   "source": [
    "# Change the address from \"Valley 345\" to \"Canyon 123\":\n",
    "myquery = { \"address\": \"Valley 345\" }\n",
    "newvalues = { \"$set\": { \"address\": \"Canyon 123\" } }\n",
    "\n",
    "mycol.update_one(myquery, newvalues)\n",
    "\n",
    "# Print \"customers\" after the update:\n",
    "new_query = { \"address\": \"Canyon 123\" }\n",
    "for x in mycol.find(new_query):\n",
    "  print(x)"
   ]
  },
  {
   "cell_type": "markdown",
   "metadata": {},
   "source": [
    "### Update Many Documents (Mettre à jour plusieurs documents)"
   ]
  },
  {
   "cell_type": "code",
   "execution_count": 25,
   "metadata": {},
   "outputs": [
    {
     "name": "stdout",
     "output_type": "stream",
     "text": [
      "2 documents updated.\n",
      "{'_id': 6, 'name': 'Minnie', 'age': 45, 'member': False, 'address': 'Sky st 331'}\n",
      "{'_id': 12, 'name': 'Minnie', 'age': 55, 'member': False, 'address': 'Sideway 1633'}\n"
     ]
    }
   ],
   "source": [
    "# Update all documents where the address starts with the letter \"S\":\n",
    "myquery = { \"address\": { \"$regex\": \"^S\" } }\n",
    "\n",
    "newvalues = { \"$set\": { \"name\": \"Minnie\" } }\n",
    "\n",
    "x = mycol.update_many(myquery, newvalues)\n",
    "\n",
    "print(x.modified_count, \"documents updated.\")\n",
    "\n",
    "# Print \"customers\" after the update:\n",
    "new_query = { \"name\": \"Minnie\" }\n",
    "for x in mycol.find(new_query):\n",
    "  print(x)"
   ]
  },
  {
   "cell_type": "markdown",
   "metadata": {},
   "source": [
    "## Delete documents (Supprimer des documents)"
   ]
  },
  {
   "cell_type": "markdown",
   "metadata": {},
   "source": [
    "### Delete One Document (Supprimer un document)"
   ]
  },
  {
   "cell_type": "code",
   "execution_count": 26,
   "metadata": {},
   "outputs": [
    {
     "name": "stdout",
     "output_type": "stream",
     "text": [
      "1  documents deleted.\n"
     ]
    }
   ],
   "source": [
    "myquery = { \"address\": \"Mountain 21\" }\n",
    "\n",
    "x = mycol.delete_one(myquery)\n",
    "\n",
    "print(x.deleted_count, \" documents deleted.\")"
   ]
  },
  {
   "cell_type": "markdown",
   "metadata": {},
   "source": [
    "### Delete Many Documents (Supprimer plusieurs documents)"
   ]
  },
  {
   "cell_type": "code",
   "execution_count": 27,
   "metadata": {},
   "outputs": [
    {
     "name": "stdout",
     "output_type": "stream",
     "text": [
      "2  documents deleted.\n"
     ]
    }
   ],
   "source": [
    "myquery = { \"address\": {\"$regex\": \"^S\"} }\n",
    "\n",
    "x = mycol.delete_many(myquery)\n",
    "\n",
    "print(x.deleted_count, \" documents deleted.\")"
   ]
  },
  {
   "cell_type": "markdown",
   "metadata": {},
   "source": [
    "### Delete All Documents in a Collection (Supprimer tous les documents d'une collection)"
   ]
  },
  {
   "cell_type": "code",
   "execution_count": 28,
   "metadata": {},
   "outputs": [
    {
     "name": "stdout",
     "output_type": "stream",
     "text": [
      "11  documents deleted.\n"
     ]
    }
   ],
   "source": [
    "x = mycol.delete_many({})\n",
    "\n",
    "print(x.deleted_count, \" documents deleted.\")"
   ]
  },
  {
   "cell_type": "markdown",
   "metadata": {},
   "source": [
    "## Drop Collection (Supprimer une collection)"
   ]
  },
  {
   "cell_type": "code",
   "execution_count": 29,
   "metadata": {},
   "outputs": [
    {
     "name": "stdout",
     "output_type": "stream",
     "text": [
      "Collection 'customers' is not found.\n"
     ]
    }
   ],
   "source": [
    "# Delete the \"customers\" collection\n",
    "mycol.drop()\n",
    "\n",
    "# Vérifier si une collection existe dans une base de données en listant toutes les collections\n",
    "collist = mydb.list_collection_names()\n",
    "if \"customers\" in collist:\n",
    "  print(\"The collection 'customers' exists.\")\n",
    "else:\n",
    "  print(\"Collection 'customers' is not found.\")"
   ]
  },
  {
   "cell_type": "code",
   "execution_count": null,
   "metadata": {},
   "outputs": [],
   "source": []
  }
 ],
 "metadata": {
  "kernelspec": {
   "display_name": "base",
   "language": "python",
   "name": "python3"
  },
  "language_info": {
   "codemirror_mode": {
    "name": "ipython",
    "version": 3
   },
   "file_extension": ".py",
   "mimetype": "text/x-python",
   "name": "python",
   "nbconvert_exporter": "python",
   "pygments_lexer": "ipython3",
   "version": "3.11.5"
  }
 },
 "nbformat": 4,
 "nbformat_minor": 2
}
