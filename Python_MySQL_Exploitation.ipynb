{
 "cells": [
  {
   "cell_type": "code",
   "execution_count": 1,
   "metadata": {},
   "outputs": [],
   "source": [
    "# Importing the mysql.connector module\n",
    "import mysql.connector"
   ]
  },
  {
   "cell_type": "markdown",
   "metadata": {},
   "source": [
    "## Connect to the MySQL server and to the database"
   ]
  },
  {
   "cell_type": "code",
   "execution_count": 2,
   "metadata": {},
   "outputs": [],
   "source": [
    "# Connect to the MySQL server and to the database\n",
    "conn = mysql.connector.connect(\n",
    "  host=\"localhost\",\n",
    "  user=\"root\",\n",
    "  password=\"\",\n",
    "  database=\"python_db\"\n",
    ")\n",
    "\n",
    "# Create a cursor object\n",
    "mycursor = conn.cursor()"
   ]
  },
  {
   "cell_type": "code",
   "execution_count": 20,
   "metadata": {},
   "outputs": [],
   "source": [
    "# Return a list of your system's databases:\n",
    "#mycursor.execute(\"SHOW DATABASES\")\n",
    "\n",
    "#for x in mycursor:\n",
    "#  print(x)"
   ]
  },
  {
   "cell_type": "markdown",
   "metadata": {},
   "source": [
    "## Select From a Table\n",
    "To select from a table in MySQL, use the \"SELECT\" statement."
   ]
  },
  {
   "cell_type": "code",
   "execution_count": 4,
   "metadata": {},
   "outputs": [
    {
     "name": "stdout",
     "output_type": "stream",
     "text": [
      "(1, 'John', 24, 1, 'Highway 37')\n",
      "(2, 'Peter', 32, 0, 'Lowstreet 27')\n",
      "(3, 'Amy', 18, 1, 'Apple st 652')\n",
      "(4, 'Hannah', 30, 0, 'Mountain 21')\n",
      "(5, 'Michael', 25, 1, 'Valley 345')\n",
      "(6, 'Sandy', 50, 0, 'Ocean blvd 2')\n",
      "(7, 'Betty', 34, 1, 'Green Grass 1')\n",
      "(8, 'Richard', 45, 0, 'Sky st 331')\n",
      "(9, 'Susan', 20, 1, 'One way 98')\n",
      "(10, 'Vicky', 29, 0, 'Yellow Garden 2')\n",
      "(11, 'Ben', 25, 1, 'Park Lane 38')\n",
      "(12, 'William', 43, 0, 'Central st 954')\n",
      "(13, 'Chuck', 35, 1, 'Main Road 989')\n",
      "(14, 'Viola', 55, 0, 'Sideway 1633')\n"
     ]
    }
   ],
   "source": [
    "# Select all records from the \"customers\" table, and display the result:\n",
    "mycursor.execute(\"SELECT * FROM customers\")\n",
    "\n",
    "myresult = mycursor.fetchall()\n",
    "\n",
    "for x in myresult:\n",
    "  print(x)"
   ]
  },
  {
   "cell_type": "markdown",
   "metadata": {},
   "source": [
    "### Selecting Columns\n",
    "To select only some of the columns in a table, use the \"SELECT\" statement followed by the column name(s):"
   ]
  },
  {
   "cell_type": "code",
   "execution_count": 5,
   "metadata": {},
   "outputs": [
    {
     "name": "stdout",
     "output_type": "stream",
     "text": [
      "('John', 'Highway 37')\n",
      "('Peter', 'Lowstreet 27')\n",
      "('Amy', 'Apple st 652')\n",
      "('Hannah', 'Mountain 21')\n",
      "('Michael', 'Valley 345')\n",
      "('Sandy', 'Ocean blvd 2')\n",
      "('Betty', 'Green Grass 1')\n",
      "('Richard', 'Sky st 331')\n",
      "('Susan', 'One way 98')\n",
      "('Vicky', 'Yellow Garden 2')\n",
      "('Ben', 'Park Lane 38')\n",
      "('William', 'Central st 954')\n",
      "('Chuck', 'Main Road 989')\n",
      "('Viola', 'Sideway 1633')\n"
     ]
    }
   ],
   "source": [
    "mycursor.execute(\"SELECT name, address FROM customers\")\n",
    "\n",
    "myresult = mycursor.fetchall()\n",
    "\n",
    "for x in myresult:\n",
    "  print(x)"
   ]
  },
  {
   "cell_type": "markdown",
   "metadata": {},
   "source": [
    "### Select With a Filter\n",
    "When selecting records from a table, you can filter the selection by using the \"WHERE\" statement:"
   ]
  },
  {
   "cell_type": "code",
   "execution_count": 6,
   "metadata": {},
   "outputs": [
    {
     "name": "stdout",
     "output_type": "stream",
     "text": [
      "(11, 'Ben', 25, 1, 'Park Lane 38')\n"
     ]
    }
   ],
   "source": [
    "sql = \"SELECT * FROM customers WHERE address = 'Park Lane 38'\"\n",
    "\n",
    "mycursor.execute(sql)\n",
    "\n",
    "myresult = mycursor.fetchall()\n",
    "\n",
    "for x in myresult:\n",
    "  print(x)"
   ]
  },
  {
   "cell_type": "markdown",
   "metadata": {},
   "source": [
    "### Wildcard Characters\n",
    "You can also select the records that starts, includes, or ends with a given letter or phrase.\n",
    "\n",
    "Use the %  to represent wildcard characters."
   ]
  },
  {
   "cell_type": "code",
   "execution_count": 7,
   "metadata": {},
   "outputs": [
    {
     "name": "stdout",
     "output_type": "stream",
     "text": [
      "(1, 'John', 24, 1, 'Highway 37')\n",
      "(9, 'Susan', 20, 1, 'One way 98')\n",
      "(14, 'Viola', 55, 0, 'Sideway 1633')\n"
     ]
    }
   ],
   "source": [
    "# Select records where the address contains the word \"way\":\n",
    "sql = \"SELECT * FROM customers WHERE address LIKE '%way%'\"\n",
    "\n",
    "mycursor.execute(sql)\n",
    "\n",
    "myresult = mycursor.fetchall()\n",
    "\n",
    "for x in myresult:\n",
    "  print(x)"
   ]
  },
  {
   "cell_type": "markdown",
   "metadata": {},
   "source": [
    "### Prevent SQL Injection\n",
    "When query values are provided by the user, you should escape the values.\n",
    "\n",
    "This is to prevent SQL injections, which is a common web hacking technique to destroy or misuse your database.\n",
    "\n",
    "The mysql.connector module has methods to escape query values:"
   ]
  },
  {
   "cell_type": "code",
   "execution_count": 8,
   "metadata": {},
   "outputs": [
    {
     "name": "stdout",
     "output_type": "stream",
     "text": [
      "(10, 'Vicky', 29, 0, 'Yellow Garden 2')\n"
     ]
    }
   ],
   "source": [
    "# Escape query values by using the placholder %s method:\n",
    "sql = \"SELECT * FROM customers WHERE address = %s\"\n",
    "adr = (\"Yellow Garden 2\", )\n",
    "\n",
    "mycursor.execute(sql, adr)\n",
    "\n",
    "myresult = mycursor.fetchall()\n",
    "\n",
    "for x in myresult:\n",
    "  print(x)"
   ]
  },
  {
   "cell_type": "markdown",
   "metadata": {},
   "source": [
    "## Sort the Result\n",
    "Use the ORDER BY statement to sort the result in ascending or descending order.\n",
    "\n",
    "The ORDER BY keyword sorts the result ascending by default. To sort the result in descending order, use the DESC keyword."
   ]
  },
  {
   "cell_type": "code",
   "execution_count": 9,
   "metadata": {},
   "outputs": [
    {
     "name": "stdout",
     "output_type": "stream",
     "text": [
      "(3, 'Amy', 18, 1, 'Apple st 652')\n",
      "(11, 'Ben', 25, 1, 'Park Lane 38')\n",
      "(7, 'Betty', 34, 1, 'Green Grass 1')\n",
      "(13, 'Chuck', 35, 1, 'Main Road 989')\n",
      "(4, 'Hannah', 30, 0, 'Mountain 21')\n",
      "(1, 'John', 24, 1, 'Highway 37')\n",
      "(5, 'Michael', 25, 1, 'Valley 345')\n",
      "(2, 'Peter', 32, 0, 'Lowstreet 27')\n",
      "(8, 'Richard', 45, 0, 'Sky st 331')\n",
      "(6, 'Sandy', 50, 0, 'Ocean blvd 2')\n",
      "(9, 'Susan', 20, 1, 'One way 98')\n",
      "(10, 'Vicky', 29, 0, 'Yellow Garden 2')\n",
      "(14, 'Viola', 55, 0, 'Sideway 1633')\n",
      "(12, 'William', 43, 0, 'Central st 954')\n"
     ]
    }
   ],
   "source": [
    "# Sort the result alphabetically by name: result:\n",
    "sql = \"SELECT * FROM customers ORDER BY name\"\n",
    "\n",
    "mycursor.execute(sql)\n",
    "\n",
    "myresult = mycursor.fetchall()\n",
    "\n",
    "for x in myresult:\n",
    "  print(x)"
   ]
  },
  {
   "cell_type": "markdown",
   "metadata": {},
   "source": [
    "### ORDER BY DESC\n",
    "Use the DESC keyword to sort the result in a descending order."
   ]
  },
  {
   "cell_type": "code",
   "execution_count": 10,
   "metadata": {},
   "outputs": [
    {
     "name": "stdout",
     "output_type": "stream",
     "text": [
      "(12, 'William', 43, 0, 'Central st 954')\n",
      "(14, 'Viola', 55, 0, 'Sideway 1633')\n",
      "(10, 'Vicky', 29, 0, 'Yellow Garden 2')\n",
      "(9, 'Susan', 20, 1, 'One way 98')\n",
      "(6, 'Sandy', 50, 0, 'Ocean blvd 2')\n",
      "(8, 'Richard', 45, 0, 'Sky st 331')\n",
      "(2, 'Peter', 32, 0, 'Lowstreet 27')\n",
      "(5, 'Michael', 25, 1, 'Valley 345')\n",
      "(1, 'John', 24, 1, 'Highway 37')\n",
      "(4, 'Hannah', 30, 0, 'Mountain 21')\n",
      "(13, 'Chuck', 35, 1, 'Main Road 989')\n",
      "(7, 'Betty', 34, 1, 'Green Grass 1')\n",
      "(11, 'Ben', 25, 1, 'Park Lane 38')\n",
      "(3, 'Amy', 18, 1, 'Apple st 652')\n"
     ]
    }
   ],
   "source": [
    "# Sort the result reverse alphabetically by name:\n",
    "sql = \"SELECT * FROM customers ORDER BY name DESC\"\n",
    "\n",
    "mycursor.execute(sql)\n",
    "\n",
    "myresult = mycursor.fetchall()\n",
    "\n",
    "for x in myresult:\n",
    "  print(x)"
   ]
  },
  {
   "cell_type": "markdown",
   "metadata": {},
   "source": [
    "## Limit the Result\n",
    "You can limit the number of records returned from the query, by using the \"LIMIT\" statement."
   ]
  },
  {
   "cell_type": "code",
   "execution_count": 11,
   "metadata": {},
   "outputs": [
    {
     "name": "stdout",
     "output_type": "stream",
     "text": [
      "(1, 'John', 24, 1, 'Highway 37')\n",
      "(2, 'Peter', 32, 0, 'Lowstreet 27')\n",
      "(3, 'Amy', 18, 1, 'Apple st 652')\n",
      "(4, 'Hannah', 30, 0, 'Mountain 21')\n",
      "(5, 'Michael', 25, 1, 'Valley 345')\n"
     ]
    }
   ],
   "source": [
    "# Select the 5 first records in the \"customers\" table:\n",
    "mycursor.execute(\"SELECT * FROM customers LIMIT 5\")\n",
    "\n",
    "myresult = mycursor.fetchall()\n",
    "\n",
    "for x in myresult:\n",
    "  print(x)"
   ]
  },
  {
   "cell_type": "markdown",
   "metadata": {},
   "source": [
    "### Start From Another Position\n",
    "If you want to return five records, starting from the third record, you can use the \"OFFSET\" keyword."
   ]
  },
  {
   "cell_type": "code",
   "execution_count": 12,
   "metadata": {},
   "outputs": [
    {
     "name": "stdout",
     "output_type": "stream",
     "text": [
      "(3, 'Amy', 18, 1, 'Apple st 652')\n",
      "(4, 'Hannah', 30, 0, 'Mountain 21')\n",
      "(5, 'Michael', 25, 1, 'Valley 345')\n",
      "(6, 'Sandy', 50, 0, 'Ocean blvd 2')\n",
      "(7, 'Betty', 34, 1, 'Green Grass 1')\n"
     ]
    }
   ],
   "source": [
    "# Start from position 3, and return 5 records:\n",
    "mycursor.execute(\"SELECT * FROM customers LIMIT 5 OFFSET 2\")\n",
    "\n",
    "myresult = mycursor.fetchall()\n",
    "\n",
    "for x in myresult:\n",
    "  print(x)"
   ]
  },
  {
   "cell_type": "markdown",
   "metadata": {},
   "source": [
    "### Update Table\n",
    "You can update existing records in a table by using the \"UPDATE\" statement."
   ]
  },
  {
   "cell_type": "code",
   "execution_count": 13,
   "metadata": {},
   "outputs": [
    {
     "name": "stdout",
     "output_type": "stream",
     "text": [
      "1 record(s) modified\n"
     ]
    }
   ],
   "source": [
    "# Overwrite the address column from \"Valley 345\" to \"Canyon 123\":\n",
    "sql = \"UPDATE customers SET address = 'Canyon 123' WHERE address = 'Valley 345'\"\n",
    "\n",
    "mycursor.execute(sql)\n",
    "\n",
    "conn.commit()\n",
    "\n",
    "print(mycursor.rowcount, \"record(s) modified\")"
   ]
  },
  {
   "cell_type": "markdown",
   "metadata": {},
   "source": [
    "### Prevent SQL Injection\n",
    "It is considered a good practice to escape the values of any query, also in update statements.\n",
    "\n",
    "This is to prevent SQL injections, which is a common web hacking technique to destroy or misuse your database.\n",
    "\n",
    "The mysql.connector module uses the placeholder %s to escape values in the update statement."
   ]
  },
  {
   "cell_type": "code",
   "execution_count": 14,
   "metadata": {},
   "outputs": [
    {
     "name": "stdout",
     "output_type": "stream",
     "text": [
      "0 record(s) affected\n"
     ]
    }
   ],
   "source": [
    "# Escape values by using the placeholder %s method:\n",
    "sql = \"UPDATE customers SET address = %s WHERE address = %s\"\n",
    "val = (\"Canyon 123\", \"Valley 345\")\n",
    "\n",
    "mycursor.execute(sql, val)\n",
    "\n",
    "conn.commit()\n",
    "\n",
    "print(mycursor.rowcount, \"record(s) affected\")"
   ]
  },
  {
   "cell_type": "markdown",
   "metadata": {},
   "source": [
    "## Delete Record\n",
    "You can delete records from an existing table by using the \"DELETE FROM\" statement."
   ]
  },
  {
   "cell_type": "code",
   "execution_count": 15,
   "metadata": {},
   "outputs": [
    {
     "name": "stdout",
     "output_type": "stream",
     "text": [
      "1 record(s) deleted\n"
     ]
    }
   ],
   "source": [
    "# Delete any record where the address is \"Mountain 21\":\n",
    "sql = \"DELETE FROM customers WHERE address = 'Mountain 21'\"\n",
    "\n",
    "mycursor.execute(sql)\n",
    "\n",
    "conn.commit()\n",
    "\n",
    "print(mycursor.rowcount, \"record(s) deleted\")"
   ]
  },
  {
   "cell_type": "markdown",
   "metadata": {},
   "source": [
    "### Prevent SQL Injection\n",
    "It is considered a good practice to escape the values of any query, also in delete statements.\n",
    "\n",
    "This is to prevent SQL injections, which is a common web hacking technique to destroy or misuse your database.\n",
    "\n",
    "The mysql.connector module uses the placeholder %s to escape values in the delete statement."
   ]
  },
  {
   "cell_type": "code",
   "execution_count": 16,
   "metadata": {},
   "outputs": [
    {
     "name": "stdout",
     "output_type": "stream",
     "text": [
      "1 record(s) deleted\n"
     ]
    }
   ],
   "source": [
    "# Escape values by using the placeholder %s method:\n",
    "sql = \"DELETE FROM customers WHERE address = %s\"\n",
    "adr = (\"Yellow Garden 2\", )\n",
    "\n",
    "mycursor.execute(sql, adr)\n",
    "\n",
    "conn.commit()\n",
    "\n",
    "print(mycursor.rowcount, \"record(s) deleted\")"
   ]
  },
  {
   "cell_type": "code",
   "execution_count": null,
   "metadata": {},
   "outputs": [],
   "source": []
  }
 ],
 "metadata": {
  "kernelspec": {
   "display_name": "base",
   "language": "python",
   "name": "python3"
  },
  "language_info": {
   "codemirror_mode": {
    "name": "ipython",
    "version": 3
   },
   "file_extension": ".py",
   "mimetype": "text/x-python",
   "name": "python",
   "nbconvert_exporter": "python",
   "pygments_lexer": "ipython3",
   "version": "3.11.5"
  }
 },
 "nbformat": 4,
 "nbformat_minor": 2
}
