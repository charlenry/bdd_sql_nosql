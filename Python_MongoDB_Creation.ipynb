{
 "cells": [
  {
   "cell_type": "markdown",
   "metadata": {},
   "source": [
    "<p align=\"center\"><font size=\"6\"><b>Notebook de Charles-Henri SAINT-MARS</b></font></p>"
   ]
  },
  {
   "cell_type": "markdown",
   "metadata": {},
   "source": [
    "## Importer le driver MongoDB 'PyMongo'"
   ]
  },
  {
   "cell_type": "code",
   "execution_count": 3,
   "metadata": {},
   "outputs": [],
   "source": [
    "# Importation du module pymongo\n",
    "import pymongo"
   ]
  },
  {
   "cell_type": "markdown",
   "metadata": {},
   "source": [
    "## Créer une base de données"
   ]
  },
  {
   "cell_type": "code",
   "execution_count": 4,
   "metadata": {},
   "outputs": [],
   "source": [
    "# # Connexion au serveur MongoDB\n",
    "myclient = pymongo.MongoClient(\"mongodb://localhost:27017/\")\n",
    "\n",
    "# Sélectionne ou crée (si elle n'existe pas) une base de données appelée « python_db »\n",
    "mydb = myclient[\"python_db\"] "
   ]
  },
  {
   "cell_type": "markdown",
   "metadata": {},
   "source": [
    "Important: Dans MongoDB, une base de données n’est pas créée tant qu’elle n’a pas obtenu du contenu !"
   ]
  },
  {
   "cell_type": "code",
   "execution_count": 5,
   "metadata": {},
   "outputs": [],
   "source": [
    "# Renvoie la liste des bases de données de votre système :\n",
    "\n",
    "#print(myclient.list_database_names())"
   ]
  },
  {
   "cell_type": "markdown",
   "metadata": {},
   "source": [
    "MongoDB attend que vous ayez créé une `collection (table)`, avec au moins un `document (enregistrement)` avant de créer réellement la base de données (et la collection)."
   ]
  },
  {
   "cell_type": "code",
   "execution_count": 6,
   "metadata": {},
   "outputs": [
    {
     "name": "stdout",
     "output_type": "stream",
     "text": [
      "Not found yet.\n"
     ]
    }
   ],
   "source": [
    "# Vérifier le nom d’une base de données spécifique\n",
    "dblist = myclient.list_database_names()\n",
    "if \"python_db\" in dblist:\n",
    "  print(\"The database exists.\")\n",
    "else:\n",
    "  print(\"Not found yet.\")"
   ]
  },
  {
   "cell_type": "markdown",
   "metadata": {},
   "source": [
    "## Créer une collection (table)"
   ]
  },
  {
   "cell_type": "markdown",
   "metadata": {},
   "source": [
    "Une collection dans MongoDB est la même chose qu’une table dans les bases de données SQL."
   ]
  },
  {
   "cell_type": "code",
   "execution_count": 7,
   "metadata": {},
   "outputs": [
    {
     "name": "stdout",
     "output_type": "stream",
     "text": [
      "Collection(Database(MongoClient(host=['localhost:27017'], document_class=dict, tz_aware=False, connect=True), 'python_db'), 'customers')\n"
     ]
    }
   ],
   "source": [
    "# Sélectionne ou crée (si elle n'existe pas) une collection appelée « customers »\n",
    "mycol = mydb[\"customers\"] \n",
    "print(mycol)"
   ]
  },
  {
   "cell_type": "markdown",
   "metadata": {},
   "source": [
    "Important: Dans MongoDB, une collection n’est pas créée tant qu’elle n’a pas obtenu du contenu !\n",
    "\n",
    "MongoDB attend que vous ayez inséré un document avant de créer la collection."
   ]
  },
  {
   "cell_type": "code",
   "execution_count": 8,
   "metadata": {},
   "outputs": [
    {
     "name": "stdout",
     "output_type": "stream",
     "text": [
      "Not found.\n"
     ]
    }
   ],
   "source": [
    "# Vérifier si la collection existe dans la base de données\n",
    "collist = mydb.list_collection_names()\n",
    "if \"customers\" in collist:\n",
    "  print(\"The collection 'customers' exists.\")\n",
    "else:\n",
    "  print(\"Not found.\")"
   ]
  },
  {
   "cell_type": "markdown",
   "metadata": {},
   "source": [
    "## Insérer des documents (enregistrements)"
   ]
  },
  {
   "cell_type": "markdown",
   "metadata": {},
   "source": [
    "Un document dans MongoDB est identique à un enregistrement dans les bases de données SQL."
   ]
  },
  {
   "cell_type": "code",
   "execution_count": 9,
   "metadata": {},
   "outputs": [
    {
     "name": "stdout",
     "output_type": "stream",
     "text": [
      "inserted_id :  67532695cc5bde8642d92089\n"
     ]
    }
   ],
   "source": [
    "# Insérez un enregistrement dans la collection « clients »\n",
    "# Le premier paramètre de la méthode insert_one() est un dictionnaire contenant les noms et valeurs de chaque champ du document que vous souhaitez insérer.\n",
    "\n",
    "mydict = { \"name\": \"John\", \"age\": 24, \"member\": True, \"address\": \"Highway 37\" }\n",
    "\n",
    "x = mycol.insert_one(mydict)\n",
    "\n",
    "print(\"inserted_id : \", x.inserted_id)"
   ]
  },
  {
   "cell_type": "markdown",
   "metadata": {},
   "source": [
    "La méthode insert_one() renvoie un objet InsertOneResult, qui possède une propriété, inserted_id qui contient l'ID du document inséré."
   ]
  },
  {
   "cell_type": "code",
   "execution_count": 10,
   "metadata": {},
   "outputs": [
    {
     "name": "stdout",
     "output_type": "stream",
     "text": [
      "inserted_id :  67532695cc5bde8642d9208a\n"
     ]
    }
   ],
   "source": [
    "# Insérez un autre enregistrement dans la collection « custumers » et renvoyez la valeur du champ _id :\n",
    "\n",
    "mydict = { \"name\": \"Peter\", \"age\": 32, \"member\": False, \"address\": \"Lowstreet 27\" }\n",
    "\n",
    "x = mycol.insert_one(mydict)\n",
    "\n",
    "print(\"inserted_id : \", x.inserted_id)"
   ]
  },
  {
   "cell_type": "markdown",
   "metadata": {},
   "source": [
    "Si vous ne spécifiez pas de champ _id, MongoDB en ajoutera un pour vous et attribuera un identifiant unique à chaque document.\n",
    "\n",
    "Dans l'exemple ci-dessus, aucun champ _id n'a été spécifié, donc MongoDB a attribué un _id unique à l'enregistrement (document)."
   ]
  },
  {
   "cell_type": "code",
   "execution_count": null,
   "metadata": {},
   "outputs": [],
   "source": []
  },
  {
   "cell_type": "markdown",
   "metadata": {},
   "source": [
    "Pour insérer plusieurs documents dans une collection dans MongoDB, nous utilisons la méthode insert_many().\n",
    "\n",
    "Le premier paramètre de la méthode insert_many() est une liste contenant des dictionnaires avec les données que vous souhaitez insérer."
   ]
  },
  {
   "cell_type": "markdown",
   "metadata": {},
   "source": [
    "Si vous ne souhaitez pas que MongoDB attribue des identifiants uniques à votre document, vous pouvez spécifier le champ _id lorsque vous insérez le(s) document(s).\n",
    "\n",
    "N'oubliez pas que les valeurs doivent être uniques. Deux documents ne peuvent pas avoir le même _id."
   ]
  },
  {
   "cell_type": "code",
   "execution_count": 11,
   "metadata": {},
   "outputs": [
    {
     "name": "stdout",
     "output_type": "stream",
     "text": [
      "[1, 2, 3, 4, 5, 6, 7, 8, 9, 10, 11, 12]\n"
     ]
    }
   ],
   "source": [
    "mylist = [\n",
    "  { \"_id\": 1, \"name\": \"Amy\", \"age\": 18, \"member\": True, \"address\": \"Apple st 652\" },\n",
    "  { \"_id\": 2, \"name\": \"Hannah\", \"age\": 30, \"member\": False, \"address\": \"Mountain 21\" },\n",
    "  { \"_id\": 3, \"name\": \"Michael\", \"age\": 25, \"member\": True, \"address\": \"Valley 345\" },\n",
    "  { \"_id\": 4, \"name\": \"Sandy\", \"age\": 50, \"member\": False, \"address\": \"Ocean blvd 2\" },\n",
    "  { \"_id\": 5, \"name\": \"Betty\", \"age\": 34, \"member\": True, \"address\": \"Green Grass 1\" },\n",
    "  { \"_id\": 6, \"name\": \"Richard\", \"age\": 45, \"member\": False, \"address\": \"Sky st 331\" },\n",
    "  { \"_id\": 7, \"name\": \"Susan\", \"age\": 20, \"member\": True, \"address\": \"One way 98\" },\n",
    "  { \"_id\": 8, \"name\": \"Vicky\", \"age\": 29, \"member\": False, \"address\": \"Yellow Garden 2\" },\n",
    "  { \"_id\": 9, \"name\": \"Ben\", \"age\": 25, \"member\": True, \"address\": \"Park Lane 38\" },\n",
    "  { \"_id\": 10, \"name\": \"William\", \"age\": 43, \"member\": False, \"address\": \"Central st 954\" },\n",
    "  { \"_id\": 11, \"name\": \"Chuck\", \"age\": 35, \"member\": True, \"address\": \"Main Road 989\" },  \n",
    "  { \"_id\": 12, \"name\": \"Viola\", \"age\": 55, \"member\": False, \"address\": \"Sideway 1633\" },\n",
    "]\n",
    "\n",
    "x = mycol.insert_many(mylist)\n",
    "\n",
    "# Print list of the _id values of the inserted documents:\n",
    "print(x.inserted_ids)"
   ]
  },
  {
   "cell_type": "markdown",
   "metadata": {},
   "source": [
    "## Vérification de la présence de la base de données et de la collection"
   ]
  },
  {
   "cell_type": "code",
   "execution_count": 12,
   "metadata": {},
   "outputs": [
    {
     "name": "stdout",
     "output_type": "stream",
     "text": [
      "The collection 'customers' exists.\n"
     ]
    }
   ],
   "source": [
    "# Renvoie la liste des bases de données de votre système :\n",
    "#print(myclient.list_database_names())\n",
    "\n",
    "# Vérifie si la collection existe dans la base de données\n",
    "collist = mydb.list_collection_names()\n",
    "if \"customers\" in collist:\n",
    "  print(\"The collection 'customers' exists.\")\n",
    "else:\n",
    "  print(\"Not found.\")"
   ]
  }
 ],
 "metadata": {
  "kernelspec": {
   "display_name": "base",
   "language": "python",
   "name": "python3"
  },
  "language_info": {
   "codemirror_mode": {
    "name": "ipython",
    "version": 3
   },
   "file_extension": ".py",
   "mimetype": "text/x-python",
   "name": "python",
   "nbconvert_exporter": "python",
   "pygments_lexer": "ipython3",
   "version": "3.11.5"
  }
 },
 "nbformat": 4,
 "nbformat_minor": 2
}
